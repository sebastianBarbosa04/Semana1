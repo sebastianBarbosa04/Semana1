{
  "nbformat": 4,
  "nbformat_minor": 0,
  "metadata": {
    "colab": {
      "provenance": [],
      "authorship_tag": "ABX9TyNjiz4QOR4ODA81tRE07g98",
      "include_colab_link": true
    },
    "kernelspec": {
      "name": "python3",
      "display_name": "Python 3"
    },
    "language_info": {
      "name": "python"
    }
  },
  "cells": [
    {
      "cell_type": "markdown",
      "metadata": {
        "id": "view-in-github",
        "colab_type": "text"
      },
      "source": [
        "<a href=\"https://colab.research.google.com/github/sebastianBarbosa04/Semana1/blob/main/semana_1_ipynp.ipynb\" target=\"_parent\"><img src=\"https://colab.research.google.com/assets/colab-badge.svg\" alt=\"Open In Colab\"/></a>"
      ]
    },
    {
      "cell_type": "code",
      "execution_count": 1,
      "metadata": {
        "colab": {
          "base_uri": "https://localhost:8080/"
        },
        "id": "PWDpXBIlAfjS",
        "outputId": "09debbfd-2061-4d76-97b1-a4102c4a7ef4"
      },
      "outputs": [
        {
          "output_type": "stream",
          "name": "stdout",
          "text": [
            "Datos del Estudiante:\n",
            "Nombre: Juan Pérez\n",
            "Edad: 20 años\n",
            "¿Cuál es tu asignatura favorita? programacion\n",
            "¡Qué bien! Tu asignatura favorita es programacion.\n"
          ]
        }
      ],
      "source": [
        "# 1. Variables y tipos de datos\n",
        "nombre_estudiante = \"Juan Pérez\"\n",
        "edad = 20\n",
        "promedio = 4.2\n",
        "es_regular = True\n",
        "# 2. La función print() para mostrar información\n",
        "print(\"Datos del Estudiante:\")\n",
        "print(\"Nombre:\", nombre_estudiante)\n",
        "print(f\"Edad: {edad} años\") # Usando f-strings, una forma moderna y útil\n",
        "# 3. La función input() para recibir datos del usuario\n",
        "asignatura_favorita = input(\"¿Cuál es tu asignatura favorita? \")\n",
        "print(f\"¡Qué bien! Tu asignatura favorita es {asignatura_favorita}.\")"
      ]
    },
    {
      "cell_type": "code",
      "metadata": {
        "colab": {
          "base_uri": "https://localhost:8080/"
        },
        "id": "884a3512",
        "outputId": "dd5d3e1f-eb80-4674-e4e1-4f1cf748e690"
      },
      "source": [
        "# Definir dos números\n",
        "numero1 = 15\n",
        "numero2 = 5\n",
        "\n",
        "# Suma\n",
        "suma = numero1 + numero2\n",
        "print(f\"La suma de {numero1} y {numero2} es: {suma}\")\n",
        "\n",
        "# Resta\n",
        "resta = numero1 - numero2\n",
        "print(f\"La resta de {numero1} y {numero2} es: {resta}\")\n",
        "\n",
        "# Multiplicación\n",
        "multiplicacion = numero1 * numero2\n",
        "print(f\"La multiplicación de {numero1} y {numero2} es: {multiplicacion}\")\n",
        "\n",
        "# División\n",
        "# Es importante manejar la división por cero\n",
        "if numero2 != 0:\n",
        "    division = numero1 / numero2\n",
        "    print(f\"La división de {numero1} entre {numero2} es: {division}\")\n",
        "else:\n",
        "    print(\"No se puede dividir por cero.\")"
      ],
      "execution_count": 2,
      "outputs": [
        {
          "output_type": "stream",
          "name": "stdout",
          "text": [
            "La suma de 15 y 5 es: 20\n",
            "La resta de 15 y 5 es: 10\n",
            "La multiplicación de 15 y 5 es: 75\n",
            "La división de 15 entre 5 es: 3.0\n"
          ]
        }
      ]
    }
  ]
}